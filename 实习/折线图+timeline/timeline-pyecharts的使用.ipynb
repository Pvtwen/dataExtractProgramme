{
 "cells": [
  {
   "cell_type": "code",
   "execution_count": 14,
   "id": "691fb9b9",
   "metadata": {},
   "outputs": [
    {
     "data": {
      "text/plain": [
       "'D:\\\\实习\\\\day05\\\\timeline.html'"
      ]
     },
     "execution_count": 14,
     "metadata": {},
     "output_type": "execute_result"
    }
   ],
   "source": [
    "import pyecharts.options as opts\n",
    "from pyecharts.charts import Line,Timeline\n",
    "\n",
    "\"\"\"\n",
    "Gallery 使用 pyecharts 1.1.0\n",
    "参考地址: https://www.echartsjs.com/examples/editor.html?c=line-marker\n",
    "\n",
    "目前无法实现的功能:\n",
    "\n",
    "1、最低气温的最高值暂时无法和 Echarts 的示例完全复刻\n",
    "\"\"\"\n",
    "tl=Timeline()\n",
    "for i in range(2011,2013):\n",
    "    \n",
    "    week_name_list = [[\"周一\", \"周二\", \"周三\", \"周四\", \"周五\", \"周六\", \"周日\"],[\"周一\", \"周二\", \"周三\", \"周四\", \"周五\", \"周六\", \"周日\"]]\n",
    "    high_temperature = [[11, 11, 15, 13, 12, 13, 10],[11, 11, 15, 13, 12, 13, 10]]\n",
    "    low_temperature = [[1, -2, 2, 5, 3, 2, 0],[1, -2, 2, 5, 3, 2, 0]]\n",
    "\n",
    "    line=(\n",
    "        Line(init_opts=opts.InitOpts(width=\"1600px\", height=\"800px\"))\n",
    "        .add_xaxis(xaxis_data=week_name_list)\n",
    "        .add_yaxis(\n",
    "            series_name=\"最高气温\",\n",
    "            y_axis=high_temperature,\n",
    "        )\n",
    "        .add_yaxis(\n",
    "            series_name=\"最低气温\",\n",
    "            y_axis=low_temperature,\n",
    "        )\n",
    "        .set_global_opts(\n",
    "            title_opts=opts.TitleOpts(title=\"未来一周气温变化\", subtitle=\"纯属虚构\"),\n",
    "            tooltip_opts=opts.TooltipOpts(trigger=\"axis\"),\n",
    "            toolbox_opts=opts.ToolboxOpts(is_show=True),\n",
    "            xaxis_opts=opts.AxisOpts(type_=\"category\", boundary_gap=False),\n",
    "        )\n",
    "    )\n",
    "    tl.add(line,\"{}年\".format(i))\n",
    "tl.render(\"timeline.html\")\n"
   ]
  },
  {
   "cell_type": "code",
   "execution_count": 8,
   "id": "ab477464",
   "metadata": {},
   "outputs": [
    {
     "ename": "AttributeError",
     "evalue": "'Line' object has no attribute 'add'",
     "output_type": "error",
     "traceback": [
      "\u001b[1;31m---------------------------------------------------------------------------\u001b[0m",
      "\u001b[1;31mAttributeError\u001b[0m                            Traceback (most recent call last)",
      "Input \u001b[1;32mIn [8]\u001b[0m, in \u001b[0;36m<cell line: 7>\u001b[1;34m()\u001b[0m\n\u001b[0;32m      6\u001b[0m tl \u001b[38;5;241m=\u001b[39m Timeline()\n\u001b[0;32m      7\u001b[0m \u001b[38;5;28;01mfor\u001b[39;00m i \u001b[38;5;129;01min\u001b[39;00m \u001b[38;5;28mrange\u001b[39m(\u001b[38;5;241m2015\u001b[39m, \u001b[38;5;241m2023\u001b[39m):\n\u001b[0;32m      8\u001b[0m     line \u001b[38;5;241m=\u001b[39m (\n\u001b[1;32m----> 9\u001b[0m         \u001b[43mLine\u001b[49m\u001b[43m(\u001b[49m\u001b[43m)\u001b[49m\n\u001b[0;32m     10\u001b[0m \u001b[43m        \u001b[49m\u001b[38;5;241;43m.\u001b[39;49m\u001b[43madd\u001b[49m(\n\u001b[0;32m     11\u001b[0m             \u001b[38;5;124m\"\u001b[39m\u001b[38;5;124m商家A\u001b[39m\u001b[38;5;124m\"\u001b[39m,\n\u001b[0;32m     12\u001b[0m             [\u001b[38;5;28mlist\u001b[39m(z) \u001b[38;5;28;01mfor\u001b[39;00m z \u001b[38;5;129;01min\u001b[39;00m \u001b[38;5;28mzip\u001b[39m(attr, Faker\u001b[38;5;241m.\u001b[39mvalues())],\n\u001b[0;32m     13\u001b[0m             rosetype\u001b[38;5;241m=\u001b[39m\u001b[38;5;124m\"\u001b[39m\u001b[38;5;124mradius\u001b[39m\u001b[38;5;124m\"\u001b[39m,\n\u001b[0;32m     14\u001b[0m             radius\u001b[38;5;241m=\u001b[39m[\u001b[38;5;124m\"\u001b[39m\u001b[38;5;124m30\u001b[39m\u001b[38;5;124m%\u001b[39m\u001b[38;5;124m\"\u001b[39m, \u001b[38;5;124m\"\u001b[39m\u001b[38;5;124m55\u001b[39m\u001b[38;5;124m%\u001b[39m\u001b[38;5;124m\"\u001b[39m],\n\u001b[0;32m     15\u001b[0m         )\n\u001b[0;32m     16\u001b[0m         \u001b[38;5;241m.\u001b[39mset_global_opts(title_opts\u001b[38;5;241m=\u001b[39mopts\u001b[38;5;241m.\u001b[39mTitleOpts(\u001b[38;5;124m\"\u001b[39m\u001b[38;5;124m某商店\u001b[39m\u001b[38;5;132;01m{}\u001b[39;00m\u001b[38;5;124m年营业额\u001b[39m\u001b[38;5;124m\"\u001b[39m\u001b[38;5;241m.\u001b[39mformat(i)))\n\u001b[0;32m     17\u001b[0m     )\n\u001b[0;32m     18\u001b[0m     tl\u001b[38;5;241m.\u001b[39madd(line, \u001b[38;5;124m\"\u001b[39m\u001b[38;5;132;01m{}\u001b[39;00m\u001b[38;5;124m年\u001b[39m\u001b[38;5;124m\"\u001b[39m\u001b[38;5;241m.\u001b[39mformat(i))\n\u001b[0;32m     19\u001b[0m tl\u001b[38;5;241m.\u001b[39mrender(\u001b[38;5;124m\"\u001b[39m\u001b[38;5;124mtimeline_pie.html\u001b[39m\u001b[38;5;124m\"\u001b[39m)\n",
      "\u001b[1;31mAttributeError\u001b[0m: 'Line' object has no attribute 'add'"
     ]
    }
   ],
   "source": []
  },
  {
   "cell_type": "code",
   "execution_count": 16,
   "id": "6324577b",
   "metadata": {},
   "outputs": [
    {
     "name": "stdout",
     "output_type": "stream",
     "text": [
      "<class 'float'>\n"
     ]
    }
   ],
   "source": [
    "a=12.33\n",
    "round(a,1)\n",
    "print(type(a))"
   ]
  },
  {
   "cell_type": "code",
   "execution_count": null,
   "id": "d6687e0a",
   "metadata": {},
   "outputs": [],
   "source": []
  }
 ],
 "metadata": {
  "kernelspec": {
   "display_name": "Python 3 (ipykernel)",
   "language": "python",
   "name": "python3"
  },
  "language_info": {
   "codemirror_mode": {
    "name": "ipython",
    "version": 3
   },
   "file_extension": ".py",
   "mimetype": "text/x-python",
   "name": "python",
   "nbconvert_exporter": "python",
   "pygments_lexer": "ipython3",
   "version": "3.9.12"
  }
 },
 "nbformat": 4,
 "nbformat_minor": 5
}
