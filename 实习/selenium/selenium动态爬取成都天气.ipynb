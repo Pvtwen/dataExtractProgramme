{
 "cells": [
  {
   "cell_type": "code",
   "execution_count": 48,
   "id": "3ceb0a40",
   "metadata": {
    "scrolled": true
   },
   "outputs": [
    {
     "name": "stderr",
     "output_type": "stream",
     "text": [
      "C:\\Users\\86153\\AppData\\Local\\Temp\\ipykernel_15504\\2338078261.py:5: DeprecationWarning: executable_path has been deprecated, please pass in a Service object\n",
      "  b=webdriver.Chrome('D:\\chromedriver_win32\\chromedriver.exe')\n",
      "  0%|                                                                           | 0/11 [00:00<?, ?it/s]C:\\Users\\86153\\AppData\\Local\\Temp\\ipykernel_15504\\2338078261.py:12: DeprecationWarning: find_element_by_* commands are deprecated. Please use find_element() instead\n",
      "  b1=b.find_element_by_id('year')\n",
      "C:\\Users\\86153\\AppData\\Local\\Temp\\ipykernel_15504\\2338078261.py:16: DeprecationWarning: find_element_by_* commands are deprecated. Please use find_element() instead\n",
      "  bx=b.find_element_by_id('month')\n",
      "C:\\Users\\86153\\AppData\\Local\\Temp\\ipykernel_15504\\2338078261.py:20: DeprecationWarning: find_element_by_xpath is deprecated. Please use find_element(by=By.XPATH, value=xpath) instead\n",
      "  b.find_element_by_xpath('/html/body/div[7]/div[1]/div[4]/ul/div').click()\n",
      "C:\\Users\\86153\\AppData\\Local\\Temp\\ipykernel_15504\\2338078261.py:22: DeprecationWarning: find_element_by_xpath is deprecated. Please use find_element(by=By.XPATH, value=xpath) instead\n",
      "  ba=b.find_element_by_xpath(f'/html/body/div[7]/div[1]/div[4]/ul/li[{k}]')\n",
      " 91%|████████████████████████████████████████████████████████████      | 10/11 [06:00<00:36, 36.06s/it]\n"
     ]
    },
    {
     "ename": "NoSuchElementException",
     "evalue": "Message: no such element: Unable to locate element: {\"method\":\"xpath\",\"selector\":\"/html/body/div[7]/div[1]/div[4]/ul/li[21]\"}\n  (Session info: chrome=102.0.5005.115)\nStacktrace:\nBacktrace:\n\tOrdinal0 [0x00E4D953+2414931]\n\tOrdinal0 [0x00DDF5E1+1963489]\n\tOrdinal0 [0x00CCC6B8+837304]\n\tOrdinal0 [0x00CF9500+1021184]\n\tOrdinal0 [0x00CF979B+1021851]\n\tOrdinal0 [0x00D26502+1205506]\n\tOrdinal0 [0x00D144E4+1131748]\n\tOrdinal0 [0x00D24812+1198098]\n\tOrdinal0 [0x00D142B6+1131190]\n\tOrdinal0 [0x00CEE860+976992]\n\tOrdinal0 [0x00CEF756+980822]\n\tGetHandleVerifier [0x010BCC62+2510274]\n\tGetHandleVerifier [0x010AF760+2455744]\n\tGetHandleVerifier [0x00EDEABA+551962]\n\tGetHandleVerifier [0x00EDD916+547446]\n\tOrdinal0 [0x00DE5F3B+1990459]\n\tOrdinal0 [0x00DEA898+2009240]\n\tOrdinal0 [0x00DEA985+2009477]\n\tOrdinal0 [0x00DF3AD1+2046673]\n\tBaseThreadInitThunk [0x7679FA29+25]\n\tRtlGetAppContainerNamedObjectPath [0x77517A7E+286]\n\tRtlGetAppContainerNamedObjectPath [0x77517A4E+238]\n",
     "output_type": "error",
     "traceback": [
      "\u001b[1;31m---------------------------------------------------------------------------\u001b[0m",
      "\u001b[1;31mNoSuchElementException\u001b[0m                    Traceback (most recent call last)",
      "Input \u001b[1;32mIn [48]\u001b[0m, in \u001b[0;36m<cell line: 11>\u001b[1;34m()\u001b[0m\n\u001b[0;32m     20\u001b[0m         b\u001b[38;5;241m.\u001b[39mfind_element_by_xpath(\u001b[38;5;124m'\u001b[39m\u001b[38;5;124m/html/body/div[7]/div[1]/div[4]/ul/div\u001b[39m\u001b[38;5;124m'\u001b[39m)\u001b[38;5;241m.\u001b[39mclick()\n\u001b[0;32m     21\u001b[0m         \u001b[38;5;28;01mfor\u001b[39;00m k \u001b[38;5;129;01min\u001b[39;00m \u001b[38;5;28mrange\u001b[39m(\u001b[38;5;241m1\u001b[39m,\u001b[38;5;241m29\u001b[39m):   \u001b[38;5;66;03m# 1,29\u001b[39;00m\n\u001b[1;32m---> 22\u001b[0m             ba\u001b[38;5;241m=\u001b[39m\u001b[43mb\u001b[49m\u001b[38;5;241;43m.\u001b[39;49m\u001b[43mfind_element_by_xpath\u001b[49m\u001b[43m(\u001b[49m\u001b[38;5;124;43mf\u001b[39;49m\u001b[38;5;124;43m'\u001b[39;49m\u001b[38;5;124;43m/html/body/div[7]/div[1]/div[4]/ul/li[\u001b[39;49m\u001b[38;5;132;43;01m{\u001b[39;49;00m\u001b[43mk\u001b[49m\u001b[38;5;132;43;01m}\u001b[39;49;00m\u001b[38;5;124;43m]\u001b[39;49m\u001b[38;5;124;43m'\u001b[39;49m\u001b[43m)\u001b[49m\n\u001b[0;32m     23\u001b[0m \u001b[38;5;66;03m#             print(ba.text)\u001b[39;00m\n\u001b[0;32m     24\u001b[0m             listy\u001b[38;5;241m=\u001b[39mba\u001b[38;5;241m.\u001b[39mtext\u001b[38;5;241m.\u001b[39msplit(\u001b[38;5;124m'\u001b[39m\u001b[38;5;130;01m\\n\u001b[39;00m\u001b[38;5;124m'\u001b[39m)\n",
      "File \u001b[1;32m~\\AppData\\Local\\Programs\\Python\\Python39\\lib\\site-packages\\selenium\\webdriver\\remote\\webdriver.py:526\u001b[0m, in \u001b[0;36mWebDriver.find_element_by_xpath\u001b[1;34m(self, xpath)\u001b[0m\n\u001b[0;32m    504\u001b[0m \u001b[38;5;124;03m\"\"\"\u001b[39;00m\n\u001b[0;32m    505\u001b[0m \u001b[38;5;124;03mFinds an element by xpath.\u001b[39;00m\n\u001b[0;32m    506\u001b[0m \n\u001b[1;32m   (...)\u001b[0m\n\u001b[0;32m    519\u001b[0m \u001b[38;5;124;03m        element = driver.find_element_by_xpath('//div/td[1]')\u001b[39;00m\n\u001b[0;32m    520\u001b[0m \u001b[38;5;124;03m\"\"\"\u001b[39;00m\n\u001b[0;32m    521\u001b[0m warnings\u001b[38;5;241m.\u001b[39mwarn(\n\u001b[0;32m    522\u001b[0m     \u001b[38;5;124m\"\u001b[39m\u001b[38;5;124mfind_element_by_xpath is deprecated. Please use find_element(by=By.XPATH, value=xpath) instead\u001b[39m\u001b[38;5;124m\"\u001b[39m,\n\u001b[0;32m    523\u001b[0m     \u001b[38;5;167;01mDeprecationWarning\u001b[39;00m,\n\u001b[0;32m    524\u001b[0m     stacklevel\u001b[38;5;241m=\u001b[39m\u001b[38;5;241m2\u001b[39m,\n\u001b[0;32m    525\u001b[0m )\n\u001b[1;32m--> 526\u001b[0m \u001b[38;5;28;01mreturn\u001b[39;00m \u001b[38;5;28;43mself\u001b[39;49m\u001b[38;5;241;43m.\u001b[39;49m\u001b[43mfind_element\u001b[49m\u001b[43m(\u001b[49m\u001b[43mby\u001b[49m\u001b[38;5;241;43m=\u001b[39;49m\u001b[43mBy\u001b[49m\u001b[38;5;241;43m.\u001b[39;49m\u001b[43mXPATH\u001b[49m\u001b[43m,\u001b[49m\u001b[43m \u001b[49m\u001b[43mvalue\u001b[49m\u001b[38;5;241;43m=\u001b[39;49m\u001b[43mxpath\u001b[49m\u001b[43m)\u001b[49m\n",
      "File \u001b[1;32m~\\AppData\\Local\\Programs\\Python\\Python39\\lib\\site-packages\\selenium\\webdriver\\remote\\webdriver.py:1251\u001b[0m, in \u001b[0;36mWebDriver.find_element\u001b[1;34m(self, by, value)\u001b[0m\n\u001b[0;32m   1248\u001b[0m     by \u001b[38;5;241m=\u001b[39m By\u001b[38;5;241m.\u001b[39mCSS_SELECTOR\n\u001b[0;32m   1249\u001b[0m     value \u001b[38;5;241m=\u001b[39m \u001b[38;5;124m'\u001b[39m\u001b[38;5;124m[name=\u001b[39m\u001b[38;5;124m\"\u001b[39m\u001b[38;5;132;01m%s\u001b[39;00m\u001b[38;5;124m\"\u001b[39m\u001b[38;5;124m]\u001b[39m\u001b[38;5;124m'\u001b[39m \u001b[38;5;241m%\u001b[39m value\n\u001b[1;32m-> 1251\u001b[0m \u001b[38;5;28;01mreturn\u001b[39;00m \u001b[38;5;28;43mself\u001b[39;49m\u001b[38;5;241;43m.\u001b[39;49m\u001b[43mexecute\u001b[49m\u001b[43m(\u001b[49m\u001b[43mCommand\u001b[49m\u001b[38;5;241;43m.\u001b[39;49m\u001b[43mFIND_ELEMENT\u001b[49m\u001b[43m,\u001b[49m\u001b[43m \u001b[49m\u001b[43m{\u001b[49m\n\u001b[0;32m   1252\u001b[0m \u001b[43m    \u001b[49m\u001b[38;5;124;43m'\u001b[39;49m\u001b[38;5;124;43musing\u001b[39;49m\u001b[38;5;124;43m'\u001b[39;49m\u001b[43m:\u001b[49m\u001b[43m \u001b[49m\u001b[43mby\u001b[49m\u001b[43m,\u001b[49m\n\u001b[0;32m   1253\u001b[0m \u001b[43m    \u001b[49m\u001b[38;5;124;43m'\u001b[39;49m\u001b[38;5;124;43mvalue\u001b[39;49m\u001b[38;5;124;43m'\u001b[39;49m\u001b[43m:\u001b[49m\u001b[43m \u001b[49m\u001b[43mvalue\u001b[49m\u001b[43m}\u001b[49m\u001b[43m)\u001b[49m[\u001b[38;5;124m'\u001b[39m\u001b[38;5;124mvalue\u001b[39m\u001b[38;5;124m'\u001b[39m]\n",
      "File \u001b[1;32m~\\AppData\\Local\\Programs\\Python\\Python39\\lib\\site-packages\\selenium\\webdriver\\remote\\webdriver.py:430\u001b[0m, in \u001b[0;36mWebDriver.execute\u001b[1;34m(self, driver_command, params)\u001b[0m\n\u001b[0;32m    428\u001b[0m response \u001b[38;5;241m=\u001b[39m \u001b[38;5;28mself\u001b[39m\u001b[38;5;241m.\u001b[39mcommand_executor\u001b[38;5;241m.\u001b[39mexecute(driver_command, params)\n\u001b[0;32m    429\u001b[0m \u001b[38;5;28;01mif\u001b[39;00m response:\n\u001b[1;32m--> 430\u001b[0m     \u001b[38;5;28;43mself\u001b[39;49m\u001b[38;5;241;43m.\u001b[39;49m\u001b[43merror_handler\u001b[49m\u001b[38;5;241;43m.\u001b[39;49m\u001b[43mcheck_response\u001b[49m\u001b[43m(\u001b[49m\u001b[43mresponse\u001b[49m\u001b[43m)\u001b[49m\n\u001b[0;32m    431\u001b[0m     response[\u001b[38;5;124m'\u001b[39m\u001b[38;5;124mvalue\u001b[39m\u001b[38;5;124m'\u001b[39m] \u001b[38;5;241m=\u001b[39m \u001b[38;5;28mself\u001b[39m\u001b[38;5;241m.\u001b[39m_unwrap_value(\n\u001b[0;32m    432\u001b[0m         response\u001b[38;5;241m.\u001b[39mget(\u001b[38;5;124m'\u001b[39m\u001b[38;5;124mvalue\u001b[39m\u001b[38;5;124m'\u001b[39m, \u001b[38;5;28;01mNone\u001b[39;00m))\n\u001b[0;32m    433\u001b[0m     \u001b[38;5;28;01mreturn\u001b[39;00m response\n",
      "File \u001b[1;32m~\\AppData\\Local\\Programs\\Python\\Python39\\lib\\site-packages\\selenium\\webdriver\\remote\\errorhandler.py:247\u001b[0m, in \u001b[0;36mErrorHandler.check_response\u001b[1;34m(self, response)\u001b[0m\n\u001b[0;32m    245\u001b[0m         alert_text \u001b[38;5;241m=\u001b[39m value[\u001b[38;5;124m'\u001b[39m\u001b[38;5;124malert\u001b[39m\u001b[38;5;124m'\u001b[39m]\u001b[38;5;241m.\u001b[39mget(\u001b[38;5;124m'\u001b[39m\u001b[38;5;124mtext\u001b[39m\u001b[38;5;124m'\u001b[39m)\n\u001b[0;32m    246\u001b[0m     \u001b[38;5;28;01mraise\u001b[39;00m exception_class(message, screen, stacktrace, alert_text)  \u001b[38;5;66;03m# type: ignore[call-arg]  # mypy is not smart enough here\u001b[39;00m\n\u001b[1;32m--> 247\u001b[0m \u001b[38;5;28;01mraise\u001b[39;00m exception_class(message, screen, stacktrace)\n",
      "\u001b[1;31mNoSuchElementException\u001b[0m: Message: no such element: Unable to locate element: {\"method\":\"xpath\",\"selector\":\"/html/body/div[7]/div[1]/div[4]/ul/li[21]\"}\n  (Session info: chrome=102.0.5005.115)\nStacktrace:\nBacktrace:\n\tOrdinal0 [0x00E4D953+2414931]\n\tOrdinal0 [0x00DDF5E1+1963489]\n\tOrdinal0 [0x00CCC6B8+837304]\n\tOrdinal0 [0x00CF9500+1021184]\n\tOrdinal0 [0x00CF979B+1021851]\n\tOrdinal0 [0x00D26502+1205506]\n\tOrdinal0 [0x00D144E4+1131748]\n\tOrdinal0 [0x00D24812+1198098]\n\tOrdinal0 [0x00D142B6+1131190]\n\tOrdinal0 [0x00CEE860+976992]\n\tOrdinal0 [0x00CEF756+980822]\n\tGetHandleVerifier [0x010BCC62+2510274]\n\tGetHandleVerifier [0x010AF760+2455744]\n\tGetHandleVerifier [0x00EDEABA+551962]\n\tGetHandleVerifier [0x00EDD916+547446]\n\tOrdinal0 [0x00DE5F3B+1990459]\n\tOrdinal0 [0x00DEA898+2009240]\n\tOrdinal0 [0x00DEA985+2009477]\n\tOrdinal0 [0x00DF3AD1+2046673]\n\tBaseThreadInitThunk [0x7679FA29+25]\n\tRtlGetAppContainerNamedObjectPath [0x77517A7E+286]\n\tRtlGetAppContainerNamedObjectPath [0x77517A4E+238]\n"
     ]
    }
   ],
   "source": [
    "from selenium import webdriver\n",
    "from selenium.webdriver.support.select import Select\n",
    "import csv\n",
    "from tqdm import tqdm\n",
    "b=webdriver.Chrome('D:\\chromedriver_win32\\chromedriver.exe')\n",
    "b.get(url='https://lishi.tianqi.com/chengdu/index.html')\n",
    "# 选择年\n",
    "f=open('成都天气3.csv','w',encoding='utf-8',newline='')\n",
    "mywrite=csv.writer(f)\n",
    "mywrite.writerow(['日期','最高气温','最低气温','天气','风向'])\n",
    "for i in tqdm(range(1,12)):   # 1,12\n",
    "    b1=b.find_element_by_id('year')\n",
    "    select=Select(b1)\n",
    "    select.select_by_index(i)\n",
    "    for j in range(0,12):  # 0,12\n",
    "        bx=b.find_element_by_id('month')\n",
    "        selectx=Select(bx)\n",
    "        selectx.select_by_index(j)\n",
    "        # 点击 查看更多 2022.6没有\n",
    "        b.find_element_by_xpath('/html/body/div[7]/div[1]/div[4]/ul/div').click()\n",
    "        for k in range(1,29):   # 1,29\n",
    "            ba=b.find_element_by_xpath(f'/html/body/div[7]/div[1]/div[4]/ul/li[{k}]')\n",
    "#             print(ba.text)\n",
    "            listy=ba.text.split('\\n')\n",
    "            data=[]\n",
    "            for m in range(0,len(listy)):    \n",
    "                data.append(listy[m])\n",
    "            mywrite.writerow(data)\n",
    "# 选择具体信息\n",
    "# # 平均高温\n",
    "# b2=b.find_element_by_xpath('/html/body/div[7]/div[1]/div[3]/ul/li[1]/div[1]/div[1]')\n",
    "# # 平均低温\n",
    "# b3=b.find_element_by_xpath('/html/body/div[7]/div[1]/div[3]/ul/li[1]/div[2]/div[1]')\n",
    "# #极端高温\n",
    "# b4=b.find_element_by_xpath('/html/body/div[7]/div[1]/div[3]/ul/li[2]/div[1]')\n",
    "# #极端低温\n",
    "# b5=b.find_element_by_xpath('/html/body/div[7]/div[1]/div[3]/ul/li[3]/div[1]')\n",
    "# # 平均空气质量指数\n",
    "# b6=b.find_element_by_xpath('/html/body/div[7]/div[1]/div[3]/ul/li[4]/div[1]')\n",
    "# # 空气最好\n",
    "# b7=b.find_element_by_xpath('/html/body/div[7]/div[1]/div[3]/ul/li[5]/div[1]')\n",
    "# # 空气最查\n",
    "# b8=b.find_element_by_xpath('/html/body/div[7]/div[1]/div[3]/ul/li[6]/div[1]')\n",
    "# list=[b2,b3,b4,b5,b6,b7,b8]\n",
    "# for i in list:\n",
    "#     print(i.text)\n",
    "\n",
    "        \n",
    "#外层循环年 内层循环月份\n",
    "# for i in range(0,13):\n",
    "#     for j in range(0,13):\n",
    "\n",
    "# ba=b.find_element_by_xpath(f'/html/body/div[7]/div[1]/div[4]/ul/li[1]')\n",
    "# list1=ba.text.split(' ')        \n",
    "# for i in list1:\n",
    "#     print(i)\n",
    "f.close()\n",
    "print(\"done\")"
   ]
  },
  {
   "cell_type": "code",
   "execution_count": null,
   "id": "691bf93e",
   "metadata": {},
   "outputs": [],
   "source": []
  },
  {
   "cell_type": "code",
   "execution_count": null,
   "id": "5c2799e3",
   "metadata": {},
   "outputs": [],
   "source": []
  }
 ],
 "metadata": {
  "kernelspec": {
   "display_name": "Python 3 (ipykernel)",
   "language": "python",
   "name": "python3"
  },
  "language_info": {
   "codemirror_mode": {
    "name": "ipython",
    "version": 3
   },
   "file_extension": ".py",
   "mimetype": "text/x-python",
   "name": "python",
   "nbconvert_exporter": "python",
   "pygments_lexer": "ipython3",
   "version": "3.9.12"
  }
 },
 "nbformat": 4,
 "nbformat_minor": 5
}
