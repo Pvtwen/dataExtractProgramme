{
 "cells": [
  {
   "cell_type": "markdown",
   "id": "f726318e",
   "metadata": {},
   "source": [
    "### 数据持久化\n",
    "\n",
    "+ 数据保存到数据库中。\n",
    "+ 保存到文本文件中（TXT文件、CSV文件）\n",
    "+ 保存到Excel表格。\n",
    "+ 将数据转换成json数据保存（API）。"
   ]
  },
  {
   "cell_type": "markdown",
   "id": "631f639a",
   "metadata": {},
   "source": [
    "### 文件读写。\n",
    "\n",
    "### 文件读写模式\n",
    "+ r:读模式（只读）。\n",
    "+ w：写模式（只写），文件不存在，先创建，再写入数据；文件存在，先清空，在写入。\n",
    "+ a：写模式（只写），文件不存在，报错；文件存在，追加。\n",
    "\n",
    "+ t：对数据进行字符串类型的读写。\n",
    "+ b：对数据进行二进制类型的读写（图片、音频、视频等资源文件读写）。"
   ]
  },
  {
   "cell_type": "markdown",
   "id": "9e3c23db",
   "metadata": {},
   "source": [
    "### 正常操作文件的顺序\n",
    "1. 创建文件，重命名。\n",
    "2. 打开文件，写入数据。\n",
    "3. 保存，关闭。"
   ]
  },
  {
   "cell_type": "code",
   "execution_count": 6,
   "id": "865ccae4",
   "metadata": {},
   "outputs": [],
   "source": [
    "import csv\n",
    "# 1.创建 文件对象\n",
    "# open(参数1,参数2，参数3，参数4) - \n",
    "# 参数1：文件路径以及文件名。参数2：读写模式。参数3：文件编码。参数4：newline = ''\n",
    "f = open('学生成绩.csv','w',encoding='utf-8')\n",
    "# 2.创建写模式对象\n",
    "mywrite = csv.writer(f)\n",
    "# 3.写数据\n",
    "# writerow() - 单行写入\n",
    "# writerows() - 多行写入\n",
    "\n",
    "# 先写入列名\n",
    "column = ['学号','姓名','性别','成绩']\n",
    "mywrite.writerow(column)\n",
    "\n",
    "# 写入内容\n",
    "content = [\n",
    "    ['Python001','张三','男',66],\n",
    "    ['Python002','李四','未知',50],\n",
    "    ['Python003','李华','男','60']\n",
    "]\n",
    "mywrite.writerows(content)\n",
    "\n",
    "# 保存关闭文件\n",
    "f.close()"
   ]
  },
  {
   "cell_type": "code",
   "execution_count": 10,
   "id": "b49b1116",
   "metadata": {},
   "outputs": [
    {
     "name": "stderr",
     "output_type": "stream",
     "text": [
      "中国新闻网爬虫: 100%|███████████████████████████| 10/10 [00:34<00:00,  3.41s/it]"
     ]
    },
    {
     "name": "stdout",
     "output_type": "stream",
     "text": [
      "写入完成！！！\n"
     ]
    },
    {
     "name": "stderr",
     "output_type": "stream",
     "text": [
      "\n"
     ]
    }
   ],
   "source": [
    "import csv\n",
    "import requests\n",
    "from lxml import etree\n",
    "from tqdm import tqdm\n",
    "\n",
    "f = open('中国新闻网.csv','w',encoding='utf-8',newline='')\n",
    "mywrite = csv.writer(f)\n",
    "mywrite.writerow(['新闻类型','新闻标题','新闻链接','发布时间'])\n",
    "\n",
    "# --------------------------------------------------\n",
    "for i in tqdm(range(1,11),desc='中国新闻网爬虫'):\n",
    "    URL = f'https://www.chinanews.com.cn/scroll-news/news{i}.html'\n",
    "\n",
    "    Headers = {\n",
    "        'User-Agent':'Mozilla/5.0 (Macintosh; Intel Mac OS X 10_15_7) AppleWebKit/537.36 (KHTML, like Gecko) Chrome/102.0.0.0 Safari/537.36'\n",
    "    }\n",
    "\n",
    "    response = requests.get(url=URL, headers=Headers)\n",
    "    if response.status_code == 200:\n",
    "        response.encoding = 'utf-8'\n",
    "        # print(response.text)\n",
    "        root = etree.HTML(response.text)\n",
    "        # print(root)\n",
    "        li_list = root.xpath('/html/body/div[3]/div[1]/div[2]/ul/li')\n",
    "        # print(li_list)\n",
    "        for i in li_list:\n",
    "            if i.xpath('./div') != []:\n",
    "                # 新闻类型\n",
    "                news_type = i.xpath('./div[1]/a/text()')[0]\n",
    "                # 新闻标题\n",
    "                news_title = i.xpath('./div[2]/a/text()')[0]\n",
    "                # 新闻链接\n",
    "                news_href = 'https://www.chinanews.com.cn' + i.xpath('./div[2]/a/@href')[0]\n",
    "                # 发布时间\n",
    "                # news_time = i.xpath('./div[3]/text()')[0]\n",
    "                news_time = i.xpath('./div[@class=\"dd_time\"]/text()')[0]\n",
    "                # print(news_type, news_title, news_href, news_time)\n",
    "                \n",
    "                data = [news_type, news_title, news_href, news_time]\n",
    "                mywrite.writerow(data)\n",
    "\n",
    "# --------------\n",
    "f.close()\n",
    "print('写入完成！！！')"
   ]
  },
  {
   "cell_type": "code",
   "execution_count": null,
   "id": "04d66e37",
   "metadata": {},
   "outputs": [],
   "source": []
  }
 ],
 "metadata": {
  "kernelspec": {
   "display_name": "Python 3 (ipykernel)",
   "language": "python",
   "name": "python3"
  },
  "language_info": {
   "codemirror_mode": {
    "name": "ipython",
    "version": 3
   },
   "file_extension": ".py",
   "mimetype": "text/x-python",
   "name": "python",
   "nbconvert_exporter": "python",
   "pygments_lexer": "ipython3",
   "version": "3.9.7"
  }
 },
 "nbformat": 4,
 "nbformat_minor": 5
}
