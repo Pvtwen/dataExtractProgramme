{
 "cells": [
  {
   "cell_type": "markdown",
   "id": "190c435a",
   "metadata": {},
   "source": [
    "### Intro\n",
    "- 成都天气csv中是用selenium爬取的近十年的天气数据\n",
    "- pandas详解文件中保存的是pandas的语法(便于查阅)\n",
    "- polar图和折线图是用pyecharts做的图表(有关于timeline的使用)\n",
    "- selenium文件夹中保存了selenium自动化的使用方法，另外chromedriver.exe一同上传\n",
    "### 心得\n",
    "- 虽说语法不太重要，但对于这种需要临时查阅语法的项目，可以做好语法的备份，方便后续写项目过程中查找浪费大量时间。\n",
    "- 对于生态体系中的debug不要浪费时间去琢磨，例如polar图中传入列表不能正常显示,可能因为type的限制，总之，不用过度纠结.\n",
    "- 项目做完之后，注意备份，尤其是代码的注解与思路,否则，相当于白做\n",
    "### debug\n",
    "- polar图中传入列表不能正常显示\n",
    "# 其他具体的语法详见具体文件"
   ]
  }
 ],
 "metadata": {
  "kernelspec": {
   "display_name": "Python 3 (ipykernel)",
   "language": "python",
   "name": "python3"
  },
  "language_info": {
   "codemirror_mode": {
    "name": "ipython",
    "version": 3
   },
   "file_extension": ".py",
   "mimetype": "text/x-python",
   "name": "python",
   "nbconvert_exporter": "python",
   "pygments_lexer": "ipython3",
   "version": "3.9.12"
  }
 },
 "nbformat": 4,
 "nbformat_minor": 5
}
